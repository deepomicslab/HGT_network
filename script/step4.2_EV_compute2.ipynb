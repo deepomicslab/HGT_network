{
 "cells": [
  {
   "cell_type": "code",
   "execution_count": 9,
   "metadata": {},
   "outputs": [],
   "source": [
    "import sys\n",
    "sys.path.append('..')\n",
    "import os\n",
    "import pandas as pd\n",
    "import copy\n",
    "import numpy as np\n",
    "import tree_util\n",
    "import seaborn as sns \n",
    "import matplotlib.pyplot as plt\n",
    "from statsmodels.stats.multitest import fdrcorrection as fdr\n",
    "from scipy.stats import mannwhitneyu\n",
    "import seaborn as sns\n",
    "import matplotlib as mpl \n",
    "mpl.rcParams['pdf.fonttype'] = 42\n",
    "import warnings \n",
    "warnings.filterwarnings('ignore')\n",
    "def format_func(value, tick_number):\n",
    "    return f\"{value:.2e}\""
   ]
  },
  {
   "cell_type": "code",
   "execution_count": 10,
   "metadata": {},
   "outputs": [],
   "source": [
    "def ex_df(d_df, profile, sname):\n",
    "    sp_list = list(set(profile.columns).intersection(set(d_df.index)))\n",
    "    sp_d_df = d_df.loc[sp_list, sp_list]\n",
    "    sp_profile = np.array(profile.loc[sname, sp_list])\n",
    "    value = np.dot(sp_profile.reshape(len(sp_profile), 1),sp_profile.reshape(1, len(sp_profile)))\n",
    "    width = value.shape[0]\n",
    "    \n",
    "    cor_df = sp_d_df.values\n",
    "    for i in range(width):\n",
    "        cor_df[i][i] = 0\n",
    "    value = np.multiply(value, cor_df)\n",
    "    ex_df = pd.DataFrame(value, index=sp_list, columns=sp_list)\n",
    "    return ex_df\n",
    "\n",
    "def exchange_v(ex_df, node_leaves):\n",
    "    result_dict = {}\n",
    "    for node, leaves in node_leaves.items():\n",
    "        leaves = list(set(leaves).intersection(set(ex_df.index)))\n",
    "        if len(leaves) == 0:\n",
    "            result_dict[node] = 0\n",
    "            continue\n",
    "        tmp = ex_df.loc[leaves, leaves]\n",
    "        result_dict[node] = tmp.sum().sum()/2\n",
    "    return result_dict\n",
    "\n",
    "def multisample_ev(profile, d_df, node_leaves):\n",
    "    result = pd.DataFrame(index=profile.index, columns=(list(node_leaves.keys())))\n",
    "    for sname in profile.index:\n",
    "        edge_df = ex_df(d_df, profile, sname)\n",
    "        tmp = exchange_v(edge_df, node_leaves)\n",
    "        for node in tmp.keys():\n",
    "                value = tmp[node]\n",
    "                result.loc[sname, node] = value\n",
    "    return result"
   ]
  },
  {
   "cell_type": "code",
   "execution_count": 11,
   "metadata": {},
   "outputs": [],
   "source": [
    "def main(pheno_profiles, sp_d, node_leaves):\n",
    "    for pheno, profile in pheno_profiles.items():\n",
    "        profile = profile.T\n",
    "        profile = profile.rename(columns=lambda x: x.replace('_', '-'))\n",
    "        profile = profile.rename(columns=lambda x: x.replace(' ', '-'))\n",
    "        pheno_profiles[pheno] = profile\n",
    "    ev_result = {}   \n",
    "    for p, profile in pheno_profiles.items():\n",
    "        p_result = multisample_ev(profile, sp_d, node_leaves)\n",
    "        ev_result[p] = copy.deepcopy(p_result)\n",
    "    return ev_result"
   ]
  },
  {
   "cell_type": "code",
   "execution_count": 12,
   "metadata": {},
   "outputs": [],
   "source": [
    "d_df = pd.read_csv('../result/S1_plasmid_net/tree/log_rescale.tsv', sep='\\t', header=0, index_col=0)\n",
    "#d_df = pd.read_csv('../result/plasmid_net/feature/degree_norm.tsv', sep='\\t', header=0, index_col=0)\n",
    "\n",
    "with open('../result/S1_plasmid_net/tree/log_rescale/gksb/renamed_GCN_tree.newick') as fp:\n",
    "    newick_tree = fp.read()\n",
    "\n",
    "json_tree = tree_util.parse(newick_tree)\n",
    "largest = {'largest': 0}\n",
    "leaf_list, l = tree_util.recu_compute(json_tree, 0, largest)\n",
    "largest_level = largest['largest']\n",
    "nlayer = largest_level\n",
    "leaf_list, l = tree_util.recu_compute(json_tree, 0, largest)\n",
    "layer_leaves_dict = tree_util.make_layer_dict(nlayer)\n",
    "\n",
    "tree_util.recu_layer(json_tree, layer_leaves_dict)\n",
    "tree_util.to_layer_leaves(layer_leaves_dict, nlayer)\n",
    "name_dict = {}\n",
    "for sp in d_df.columns:\n",
    "        name_dict[sp] = sp.replace('_', '-')\n",
    "renamed_d = d_df.rename(columns=name_dict, index=name_dict)\n",
    "renamed_d = renamed_d.loc[leaf_list, leaf_list]\n",
    "result = {}\n",
    "# compute leaf layer\n",
    "result['leaves_dict'] = copy.deepcopy(layer_leaves_dict)\n",
    "parent_dict = {}\n",
    "tree_util.parents(json_tree, parent_dict)\n",
    "node_leaves = {}\n",
    "for level in layer_leaves_dict.keys():\n",
    "    for node, sp_list in layer_leaves_dict[level].items():\n",
    "        if node in node_leaves.keys():\n",
    "            continue\n",
    "        node_leaves[node] = copy.deepcopy(sp_list)\n",
    "subtree_nodes = {}\n",
    "for l in leaf_list:\n",
    "    parent = parent_dict[l]\n",
    "    if parent not in subtree_nodes.keys():\n",
    "        subtree_nodes[parent] = []\n",
    "    subtree_nodes[parent].append(l)\n",
    "\n",
    "for node in node_leaves.keys():\n",
    "    parent = parent_dict[node]\n",
    "    if parent not in subtree_nodes.keys():\n",
    "        subtree_nodes[parent] = []\n",
    "    subtree_nodes[parent] += subtree_nodes[node]\n",
    "    subtree_nodes[parent].append(node)\n",
    "\n",
    "for node in subtree_nodes.keys():\n",
    "    subtree_nodes[node].append(node)\n",
    "\n",
    "direct_children_dict = {}\n",
    "for node, parent in parent_dict.items():\n",
    "    if parent not in direct_children_dict:\n",
    "        direct_children_dict[parent] = []\n",
    "    direct_children_dict[parent].append(node)\n",
    "\n",
    "result['leaves_dict']['root'] = {'root': list(name_dict.values())}\n",
    "node_leaves['root'] = list(name_dict.values())"
   ]
  },
  {
   "cell_type": "code",
   "execution_count": 13,
   "metadata": {},
   "outputs": [],
   "source": [
    "tlevel = 'g'\n",
    "idir = '../data/anti/Anti2'\n",
    "outdir = '../result/S4_Anti/Anti2'\n",
    "if not os.path.exists(outdir):\n",
    "    os.makedirs(outdir)\n",
    "abd = pd.read_csv(os.path.join(idir, 'Anti2_{}.tsv'.format(tlevel)), header=0, index_col=0, sep='\\t')\n",
    "rename_columns = [x.replace('4opt', '4').replace('8opt', '8') for x in abd.columns]\n",
    "abd.columns = rename_columns\n",
    "samples = abd.columns\n",
    "days = []\n",
    "slist = []\n",
    "tmpl = '{}_Dag{}'\n",
    "for s in samples:\n",
    "    day = s.split('_Dag')\n",
    "    days.append(day[1])\n",
    "    sname = day[0]\n",
    "    slist.append(sname)\n",
    "valid = list(set(slist))\n",
    "# valid = []\n",
    "# for x in slist:\n",
    "#     if tmpl.format(x, 4) not in samples:\n",
    "#         print(x)\n",
    "#     else:\n",
    "#         valid.append(x)\n",
    "# exposed group\n",
    "days = [0, 8, 42, 180]\n",
    "\n",
    "samples = set()\n",
    "day_data_dict = {}\n",
    "for d in days:\n",
    "    day_dict = {}\n",
    "    for s in set(valid):\n",
    "        idx = tmpl.format(s, d)\n",
    "        day_dict[idx] = s\n",
    "    day_data_dict[d] = copy.deepcopy(abd[list(day_dict.keys())])\n",
    "    day_data_dict[d] = day_data_dict[d].rename(columns=day_dict)\n",
    "\n",
    "\n",
    "exposed_ev_dict = main(day_data_dict, renamed_d, node_leaves)\n",
    "\n",
    "for d in exposed_ev_dict.keys():\n",
    "    exposed_ev_dict[d].to_csv(os.path.join(outdir, 'exposed_TI_{}.tsv'.format(d)), sep='\\t')"
   ]
  },
  {
   "cell_type": "code",
   "execution_count": 14,
   "metadata": {},
   "outputs": [],
   "source": [
    "def compare(pheno_profiles, p_cutoff, case_label, control_label):\n",
    "    p_df = pd.DataFrame(columns=['p', 'mean({})'.format(case_label), 'mean({})'.format(control_label), 'var({})'.format(case_label), 'var({})'.format(control_label), 'fc({}/{})'.format(case_label, control_label), 'diff({}-{})'.format(case_label, control_label), 'abs', 'non_zero({})'.format(control_label), 'non_zero({})'.format(case_label), 'non_zero%({})'.format(control_label), 'non_zero%({})'.format(case_label)], index=list(pheno_profiles[case_label].columns))\n",
    "\n",
    "    # check each cluster\n",
    "    valid_clusters = []\n",
    "    for sp in pheno_profiles[case_label].columns:\n",
    "        disease_v = list(pheno_profiles[case_label][sp])\n",
    "        control_v = list(pheno_profiles[control_label][sp])\n",
    "        p_df.loc[sp, 'mean({})'.format(case_label)] = np.mean(disease_v)\n",
    "        p_df.loc[sp, 'mean({})'.format(control_label)] = np.mean(control_v)\n",
    "        p_df.loc[sp, 'var({})'.format(case_label)] = np.var(disease_v)\n",
    "        p_df.loc[sp, 'var({})'.format(control_label)] = np.var(control_v)\n",
    "\n",
    "        p_df.loc[sp, 'diff({}-{})'.format(case_label, control_label)] = p_df.loc[sp, 'mean({})'.format(case_label)] - p_df.loc[sp, 'mean({})'.format(control_label)]\n",
    "        p_df.loc[sp, 'fc({}/{})'.format(case_label, control_label)] = p_df.loc[sp, 'mean({})'.format(case_label)]/p_df.loc[sp, 'mean({})'.format(control_label)]\n",
    "        p_df.loc[sp,'non_zero({})'.format(case_label)] = len(disease_v) - disease_v.count(0)\n",
    "        p_df.loc[sp, 'non_zero({})'.format(control_label)] = len(control_v) - control_v.count(0)\n",
    "        p_df.loc[sp, 'non_zero%({})'.format(case_label)] = p_df.loc[sp, 'non_zero({})'.format(case_label)]/len(disease_v)\n",
    "        p_df.loc[sp, 'non_zero%({})'.format(control_label)] = p_df.loc[sp, 'non_zero({})'.format(control_label)]/len(control_v)\n",
    "        if (list(disease_v).count(0) > len(list(disease_v))*0.8) and (list(control_v).count(0) > len(list(control_v))*0.8):\n",
    "            continue\n",
    "        valid_clusters.append(sp)\n",
    "        t, p = mannwhitneyu(disease_v, control_v)\n",
    "        #print(len(disease_v), len(control_v), len(disease_v) + len(control_v))\n",
    "        p_df.loc[sp, 'p'] = p\n",
    "    p_adj = fdr(list(p_df.loc[valid_clusters, 'p']), p_cutoff)[1]\n",
    "    for i, sp in enumerate(valid_clusters):\n",
    "        p_df.loc[sp, 'p_adj'] = p_adj[i]\n",
    "    p_df['abs'] = abs(p_df['diff({}-{})'.format(case_label, control_label)])\n",
    "    return p_df\n",
    "\n",
    "def check(p_df, p_cutoff):\n",
    "    p_df.dropna(inplace=True)\n",
    "    valid_clusters = []\n",
    "    for idx in p_df.index:\n",
    "        for c in p_df.columns:\n",
    "            if not np.isnan(p_df.loc[idx, c]):\n",
    "                if p_df.loc[idx, c] < p_cutoff:\n",
    "                    valid_clusters.append(idx)\n",
    "                    break\n",
    "    return valid_clusters\n",
    "\n",
    "def show_valid(df):\n",
    "    df.fillna(np.nan, inplace=True)\n",
    "    valid_clusters = check(df, 0.05)\n",
    "    plot_p = df.loc[valid_clusters, ]\n",
    "    return plot_p"
   ]
  },
  {
   "cell_type": "code",
   "execution_count": 15,
   "metadata": {},
   "outputs": [
    {
     "name": "stdout",
     "output_type": "stream",
     "text": [
      "                     0-8      0-42      8-42     0-180    42-180\n",
      "cluster_S1-C4   0.000928  0.748978  0.005052  0.469228  0.885234\n",
      "cluster_S1-C11  0.011391  0.604856  0.000740  0.469228  0.885234\n",
      "cluster_C4      0.010024  0.520536  0.010266  0.469228  0.885234\n",
      "cluster_C5      0.000220  0.529778  0.000220  0.469228  0.885234\n",
      "cluster_C6      0.005875  0.469851  0.001132  0.469228  0.885234\n",
      "cluster_C10     0.000226  0.520536  0.001132  0.839860  0.885234\n"
     ]
    }
   ],
   "source": [
    "expose_p = {}\n",
    "tmp = compare(exposed_ev_dict, 0.05, 0, 8)\n",
    "expose_p['0-8'] = copy.deepcopy(tmp)\n",
    "\n",
    "tmp = compare(exposed_ev_dict, 0.05, 0, 42)\n",
    "expose_p['0-42'] = copy.deepcopy(tmp)\n",
    "tmp = compare(exposed_ev_dict, 0.05, 8, 42)\n",
    "expose_p['8-42'] = copy.deepcopy(tmp)\n",
    "tmp = compare(exposed_ev_dict, 0.05, 0, 180)\n",
    "expose_p['0-180'] = copy.deepcopy(tmp)\n",
    "tmp = compare(exposed_ev_dict, 0.05, 42, 180)\n",
    "expose_p['42-180'] = copy.deepcopy(tmp)\n",
    "e_day_df = pd.DataFrame(index=node_leaves.keys(), columns=expose_p.keys())\n",
    "for key in expose_p.keys():\n",
    "    e_day_df[key] = expose_p[key]['p_adj']\n",
    "e_day_df.dropna(inplace=True)\n",
    "e_day_df.to_csv(os.path.join(outdir, 'expose_day_p.tsv'), sep='\\t')\n",
    "e_day_df = show_valid(e_day_df)\n",
    "print(e_day_df)"
   ]
  },
  {
   "cell_type": "code",
   "execution_count": 16,
   "metadata": {},
   "outputs": [
    {
     "data": {
      "image/png": "[encoded data removed]",
      "text/plain": [
       "<Figure size 360x288 with 1 Axes>"
      ]
     },
     "metadata": {
      "needs_background": "light"
     },
     "output_type": "display_data"
    },
    {
     "data": {
      "image/png": "[encoded data removed]",
      "text/plain": [
       "<Figure size 360x288 with 1 Axes>"
      ]
     },
     "metadata": {
      "needs_background": "light"
     },
     "output_type": "display_data"
    },
    {
     "data": {
      "image/png": "[encoded data removed]",
      "text/plain": [
       "<Figure size 360x288 with 1 Axes>"
      ]
     },
     "metadata": {
      "needs_background": "light"
     },
     "output_type": "display_data"
    },
    {
     "data": {
      "image/png": "[encoded data removed]",
      "text/plain": [
       "<Figure size 360x288 with 1 Axes>"
      ]
     },
     "metadata": {
      "needs_background": "light"
     },
     "output_type": "display_data"
    },
    {
     "data": {
      "image/png": "[encoded data removed]",
      "text/plain": [
       "<Figure size 360x288 with 1 Axes>"
      ]
     },
     "metadata": {
      "needs_background": "light"
     },
     "output_type": "display_data"
    },
    {
     "data": {
      "image/png": "[encoded data removed]",
      "text/plain": [
       "<Figure size 360x288 with 1 Axes>"
      ]
     },
     "metadata": {
      "needs_background": "light"
     },
     "output_type": "display_data"
    }
   ],
   "source": [
    "for cluster in e_day_df.index:\n",
    "    fig, ax = plt.subplots(figsize=(5, 4))\n",
    "    df = pd.DataFrame(columns=days, index=valid)\n",
    "    for day in days:\n",
    "        tmp = exposed_ev_dict[day] \n",
    "        df.loc[valid, day] = tmp.loc[valid, cluster]\n",
    "\n",
    "    bp = ax.boxplot(df[days], labels=days, patch_artist=True, widths=0.6)\n",
    "    colors = ['blue', 'green', 'yellow', 'orange']\n",
    "    max_y = df.max().max()*1.5\n",
    "    for box, color in zip(bp['boxes'], colors):\n",
    "        box.set(facecolor=color, alpha=1)\n",
    "\n",
    "    for whisker in bp['whiskers']:\n",
    "        whisker.set(color='gray', linewidth=1.5)\n",
    "    for cap in bp['caps']:\n",
    "        cap.set(color='gray', linewidth=1.5)\n",
    "    for median in bp['medians']:\n",
    "        median.set(color='black', linewidth=1.5)\n",
    "    for flier in bp['fliers']:\n",
    "        flier.set(marker='o', markerfacecolor='gray', markersize=5)\n",
    "\n",
    "\n",
    "    for i, pair in enumerate(e_day_df.columns):\n",
    "        day0, day1 = pair.split('-')\n",
    "        day0 = days.index(int(day0))\n",
    "        day1 = days.index(int(day1))\n",
    "        value = e_day_df.loc[cluster, pair]\n",
    "        current_y = max_y*(1+i*0.11)\n",
    "        ax.plot([1.1+day0, day1+0.9], [current_y]*2, '-', color='black', linewidth=2)\n",
    "        if value < 0.05:\n",
    "            ax.text((2+day0+day1)/2, current_y*1.01, \"p={:.2e}\".format(value), ha='center', va='bottom', fontsize=12)\n",
    "        else:\n",
    "            ax.text((2+day0+day1)/2, current_y*1.01, \"p={:.2f}\".format(value), ha='center', va='bottom', fontsize=12)\n",
    "\n",
    "    #ax.set_title('SE comparison in different experiment')\n",
    "    ax.set_xlabel('day', fontsize=12)\n",
    "    ax.set_ylabel('{}'.format(cluster.split('_')[1]), fontsize=12)\n",
    "    plt.yticks(fontsize=12)\n",
    "    ax.set_ylim(0, max_y*1.6)\n",
    "    plt.gca().yaxis.set_major_formatter(plt.FuncFormatter(format_func))\n",
    "    plt.tight_layout()\n",
    "    plt.savefig(os.path.join(outdir, '{}_boxplot.pdf'.format(cluster)), format='pdf')\n",
    "    plt.show()\n"
   ]
  },
  {
   "cell_type": "code",
   "execution_count": 32,
   "metadata": {},
   "outputs": [],
   "source": [
    "# check all abd diff\n",
    "diff_abd_dict = {}\n",
    "for d1 in days:\n",
    "    if d1 not in diff_abd_dict.keys():\n",
    "        diff_abd_dict[d1] = {}\n",
    "    tmp1 = day_data_dict[d1]\n",
    "    for d2 in days:\n",
    "        if d1 >= d2:\n",
    "            continue\n",
    "        diff_abd_dict[d1][d2] = pd.DataFrame()\n",
    "        tmp2 = day_data_dict[d2]\n",
    "        for sp in tmp1.columns:\n",
    "            #if list(tmp1[sp]).count(0) > len(tmp1)*0.8:\n",
    "            #    continue\n",
    "            if sp not in tmp2.columns:\n",
    "                v2 = [0]*len(tmp1)\n",
    "            v1 = tmp1[sp]\n",
    "            v2 = tmp2[sp]\n",
    "            t, p = mannwhitneyu(v1, v2)\n",
    "            diff_abd_dict[d1][d2].loc[sp, 'p'] = p\n",
    "        diff_abd_dict[d1][d2]['p_adj'] = fdr(list(diff_abd_dict[d1][d2]['p']), 0.05)[1]\n"
   ]
  },
  {
   "cell_type": "code",
   "execution_count": 33,
   "metadata": {},
   "outputs": [
    {
     "name": "stdout",
     "output_type": "stream",
     "text": [
      "cluster_S1-C4 0 8 16 34 0.47058823529411764\n",
      "cluster_S1-C4 0 42 3 34 0.08823529411764706\n",
      "cluster_S1-C4 0 180 0 34 0.0\n",
      "cluster_S1-C4 8 42 14 34 0.4117647058823529\n",
      "cluster_S1-C4 8 180 16 34 0.47058823529411764\n",
      "cluster_S1-C4 42 180 0 34 0.0\n",
      "cluster_S1-C11 0 8 2 8 0.25\n",
      "cluster_S1-C11 0 42 0 8 0.0\n",
      "cluster_S1-C11 0 180 0 8 0.0\n",
      "cluster_S1-C11 8 42 4 8 0.5\n",
      "cluster_S1-C11 8 180 3 8 0.375\n",
      "cluster_S1-C11 42 180 0 8 0.0\n",
      "cluster_C4 0 8 6 11 0.5454545454545454\n",
      "cluster_C4 0 42 0 11 0.0\n",
      "cluster_C4 0 180 0 11 0.0\n",
      "cluster_C4 8 42 4 11 0.36363636363636365\n",
      "cluster_C4 8 180 5 11 0.45454545454545453\n",
      "cluster_C4 42 180 0 11 0.0\n",
      "cluster_C5 0 8 4 7 0.5714285714285714\n",
      "cluster_C5 0 42 2 7 0.2857142857142857\n",
      "cluster_C5 0 180 0 7 0.0\n",
      "cluster_C5 8 42 3 7 0.42857142857142855\n",
      "cluster_C5 8 180 4 7 0.5714285714285714\n",
      "cluster_C5 42 180 0 7 0.0\n",
      "cluster_C6 0 8 3 7 0.42857142857142855\n",
      "cluster_C6 0 42 0 7 0.0\n",
      "cluster_C6 0 180 0 7 0.0\n",
      "cluster_C6 8 42 2 7 0.2857142857142857\n",
      "cluster_C6 8 180 2 7 0.2857142857142857\n",
      "cluster_C6 42 180 0 7 0.0\n",
      "cluster_C10 0 8 2 2 1.0\n",
      "cluster_C10 0 42 0 2 0.0\n",
      "cluster_C10 0 180 0 2 0.0\n",
      "cluster_C10 8 42 1 2 0.5\n",
      "cluster_C10 8 180 2 2 1.0\n",
      "cluster_C10 42 180 0 2 0.0\n"
     ]
    }
   ],
   "source": [
    "for cluster in e_day_df.index:\n",
    "    leaves = node_leaves[cluster]\n",
    "    for d1 in days:\n",
    "        for d2 in days:\n",
    "            if d1 >= d2:\n",
    "                continue\n",
    "            total_tmp = 0\n",
    "            sig_tmp = 0\n",
    "            for sp in leaves:\n",
    "                if sp not in diff_abd_dict[d1][d2].index:\n",
    "                    continue\n",
    "                p = diff_abd_dict[d1][d2].loc[sp, 'p_adj']\n",
    "                total_tmp += 1\n",
    "                if p < 0.05:\n",
    "                    sig_tmp += 1\n",
    "            if total_tmp is 0 :\n",
    "                print(cluster)\n",
    "                continue\n",
    "            print(cluster, d1, d2, sig_tmp, total_tmp, sig_tmp/total_tmp)"
   ]
  },
  {
   "cell_type": "code",
   "execution_count": 35,
   "metadata": {},
   "outputs": [
    {
     "name": "stdout",
     "output_type": "stream",
     "text": [
      "root 0 8 81 205 0.3951219512195122\n",
      "root 0 42 14 205 0.06829268292682927\n",
      "root 0 180 0 205 0.0\n",
      "root 8 42 68 205 0.33170731707317075\n",
      "root 8 180 77 205 0.375609756097561\n",
      "root 42 180 0 205 0.0\n",
      "supercluster_S1 0 8 63 168 0.375\n",
      "supercluster_S1 0 42 12 168 0.07142857142857142\n",
      "supercluster_S1 0 180 0 168 0.0\n",
      "supercluster_S1 8 42 55 168 0.3273809523809524\n",
      "supercluster_S1 8 180 61 168 0.3630952380952381\n",
      "supercluster_S1 42 180 0 168 0.0\n",
      "cluster_S1-C2 0 8 33 74 0.44594594594594594\n",
      "cluster_S1-C2 0 42 8 74 0.10810810810810811\n",
      "cluster_S1-C2 0 180 0 74 0.0\n",
      "cluster_S1-C2 8 42 28 74 0.3783783783783784\n",
      "cluster_S1-C2 8 180 29 74 0.3918918918918919\n",
      "cluster_S1-C2 42 180 0 74 0.0\n"
     ]
    }
   ],
   "source": [
    "for cluster in ['root', 'supercluster_S1', 'cluster_S1-C2']:\n",
    "    leaves = node_leaves[cluster]\n",
    "    for d1 in days:\n",
    "        for d2 in days:\n",
    "            if d1 >= d2:\n",
    "                continue\n",
    "            total_tmp = 0\n",
    "            sig_tmp = 0\n",
    "            for sp in leaves:\n",
    "                if sp not in diff_abd_dict[d1][d2].index:\n",
    "                    continue\n",
    "                p = diff_abd_dict[d1][d2].loc[sp, 'p_adj']\n",
    "                total_tmp += 1\n",
    "                if p < 0.05:\n",
    "                    sig_tmp += 1\n",
    "            print(cluster, d1, d2, sig_tmp, total_tmp, sig_tmp/total_tmp)"
   ]
  },
  {
   "cell_type": "code",
   "execution_count": null,
   "metadata": {},
   "outputs": [],
   "source": [
    "# make heatmap for ev day\n",
    "# exposed\n",
    "mean_df = pd.DataFrame(index=node_leaves.keys(), columns=days)\n",
    "median_df = pd.DataFrame(index=node_leaves.keys(), columns=days)\n",
    "for day in days:\n",
    "    tmp = exposed_ev_dict[day]\n",
    "    mean_df.loc[tmp.columns, day] = tmp.mean()\n",
    "    median_df.loc[tmp.columns, day] = tmp.median()\n",
    "\n",
    "mean_df = mean_df.astype(float)\n",
    "median_df = median_df.astype(float)\n",
    "# delete all zero rows\n",
    "mean_df = mean_df.loc[(mean_df!=0).any(axis=1), :]\n",
    "median_df = median_df.loc[(median_df!=0).any(axis=1), :]"
   ]
  },
  {
   "cell_type": "code",
   "execution_count": null,
   "metadata": {},
   "outputs": [
    {
     "data": {
      "image/png": "[encoded data removed]",
      "text/plain": [
       "<Figure size 432x288 with 2 Axes>"
      ]
     },
     "metadata": {
      "needs_background": "light"
     },
     "output_type": "display_data"
    }
   ],
   "source": [
    "sns.heatmap(mean_df, cmap='RdYlBu_r', square=True, linewidths=0.5, linecolor='white')\n",
    "plt.tight_layout()\n",
    "plt.savefig(os.path.join(outdir, 'exposed_TI_mean_heatmap.pdf'), format='pdf')\n",
    "plt.show()"
   ]
  },
  {
   "cell_type": "code",
   "execution_count": 38,
   "metadata": {},
   "outputs": [
    {
     "data": {
      "text/plain": [
       "<AxesSubplot: >"
      ]
     },
     "execution_count": 38,
     "metadata": {},
     "output_type": "execute_result"
    },
    {
     "data": {
      "image/png": "[encoded data removed]",
      "text/plain": [
       "<Figure size 432x288 with 2 Axes>"
      ]
     },
     "metadata": {
      "needs_background": "light"
     },
     "output_type": "display_data"
    }
   ],
   "source": [
    "sns.heatmap(median_df, cmap='RdYlBu_r', square=True, linewidths=0.5, linecolor='white')\n"
   ]
  },
  {
   "cell_type": "code",
   "execution_count": 39,
   "metadata": {},
   "outputs": [
    {
     "data": {
      "text/html": [
       "<div>\n",
       "<style scoped>\n",
       "    .dataframe tbody tr th:only-of-type {\n",
       "        vertical-align: middle;\n",
       "    }\n",
       "\n",
       "    .dataframe tbody tr th {\n",
       "        vertical-align: top;\n",
       "    }\n",
       "\n",
       "    .dataframe thead th {\n",
       "        text-align: right;\n",
       "    }\n",
       "</style>\n",
       "<table border=\"1\" class=\"dataframe\">\n",
       "  <thead>\n",
       "    <tr style=\"text-align: right;\">\n",
       "      <th></th>\n",
       "      <th>0</th>\n",
       "      <th>8</th>\n",
       "      <th>42</th>\n",
       "      <th>180</th>\n",
       "    </tr>\n",
       "  </thead>\n",
       "  <tbody>\n",
       "    <tr>\n",
       "      <th>cluster_S1-C2</th>\n",
       "      <td>4.986329e-02</td>\n",
       "      <td>4.712738e-02</td>\n",
       "      <td>6.770153e-02</td>\n",
       "      <td>7.418194e-02</td>\n",
       "    </tr>\n",
       "    <tr>\n",
       "      <th>cluster_S1-C3</th>\n",
       "      <td>0.000000e+00</td>\n",
       "      <td>2.536485e-07</td>\n",
       "      <td>0.000000e+00</td>\n",
       "      <td>0.000000e+00</td>\n",
       "    </tr>\n",
       "    <tr>\n",
       "      <th>cluster_S1-C4</th>\n",
       "      <td>4.217490e-07</td>\n",
       "      <td>0.000000e+00</td>\n",
       "      <td>7.019287e-07</td>\n",
       "      <td>4.497631e-07</td>\n",
       "    </tr>\n",
       "    <tr>\n",
       "      <th>cluster_S1-C11</th>\n",
       "      <td>5.453968e-05</td>\n",
       "      <td>1.596217e-06</td>\n",
       "      <td>7.870183e-05</td>\n",
       "      <td>1.092740e-04</td>\n",
       "    </tr>\n",
       "    <tr>\n",
       "      <th>cluster_C4</th>\n",
       "      <td>2.473359e-05</td>\n",
       "      <td>1.430414e-06</td>\n",
       "      <td>1.017506e-05</td>\n",
       "      <td>1.449075e-05</td>\n",
       "    </tr>\n",
       "    <tr>\n",
       "      <th>cluster_C5</th>\n",
       "      <td>3.200455e-06</td>\n",
       "      <td>0.000000e+00</td>\n",
       "      <td>8.410227e-07</td>\n",
       "      <td>1.646962e-06</td>\n",
       "    </tr>\n",
       "    <tr>\n",
       "      <th>cluster_C6</th>\n",
       "      <td>3.552986e-08</td>\n",
       "      <td>0.000000e+00</td>\n",
       "      <td>8.530441e-07</td>\n",
       "      <td>2.200964e-07</td>\n",
       "    </tr>\n",
       "    <tr>\n",
       "      <th>cluster_C7</th>\n",
       "      <td>2.848481e-06</td>\n",
       "      <td>1.608409e-06</td>\n",
       "      <td>5.209007e-06</td>\n",
       "      <td>2.631634e-06</td>\n",
       "    </tr>\n",
       "    <tr>\n",
       "      <th>cluster_C10</th>\n",
       "      <td>4.150885e-07</td>\n",
       "      <td>0.000000e+00</td>\n",
       "      <td>1.823731e-07</td>\n",
       "      <td>4.849056e-07</td>\n",
       "    </tr>\n",
       "    <tr>\n",
       "      <th>supercluster_S1</th>\n",
       "      <td>6.092469e-02</td>\n",
       "      <td>5.131366e-02</td>\n",
       "      <td>8.434324e-02</td>\n",
       "      <td>9.075479e-02</td>\n",
       "    </tr>\n",
       "    <tr>\n",
       "      <th>root</th>\n",
       "      <td>6.313456e-02</td>\n",
       "      <td>5.740728e-02</td>\n",
       "      <td>8.952082e-02</td>\n",
       "      <td>9.319788e-02</td>\n",
       "    </tr>\n",
       "  </tbody>\n",
       "</table>\n",
       "</div>"
      ],
      "text/plain": [
       "                          0             8             42            180\n",
       "cluster_S1-C2    4.986329e-02  4.712738e-02  6.770153e-02  7.418194e-02\n",
       "cluster_S1-C3    0.000000e+00  2.536485e-07  0.000000e+00  0.000000e+00\n",
       "cluster_S1-C4    4.217490e-07  0.000000e+00  7.019287e-07  4.497631e-07\n",
       "cluster_S1-C11   5.453968e-05  1.596217e-06  7.870183e-05  1.092740e-04\n",
       "cluster_C4       2.473359e-05  1.430414e-06  1.017506e-05  1.449075e-05\n",
       "cluster_C5       3.200455e-06  0.000000e+00  8.410227e-07  1.646962e-06\n",
       "cluster_C6       3.552986e-08  0.000000e+00  8.530441e-07  2.200964e-07\n",
       "cluster_C7       2.848481e-06  1.608409e-06  5.209007e-06  2.631634e-06\n",
       "cluster_C10      4.150885e-07  0.000000e+00  1.823731e-07  4.849056e-07\n",
       "supercluster_S1  6.092469e-02  5.131366e-02  8.434324e-02  9.075479e-02\n",
       "root             6.313456e-02  5.740728e-02  8.952082e-02  9.319788e-02"
      ]
     },
     "execution_count": 39,
     "metadata": {},
     "output_type": "execute_result"
    }
   ],
   "source": [
    "median_df"
   ]
  },
  {
   "cell_type": "code",
   "execution_count": null,
   "metadata": {},
   "outputs": [],
   "source": []
  }
 ],
 "metadata": {
  "kernelspec": {
   "display_name": "base",
   "language": "python",
   "name": "python3"
  },
  "language_info": {
   "codemirror_mode": {
    "name": "ipython",
    "version": 3
   },
   "file_extension": ".py",
   "mimetype": "text/x-python",
   "name": "python",
   "nbconvert_exporter": "python",
   "pygments_lexer": "ipython3",
   "version": "3.8.5"
  }
 },
 "nbformat": 4,
 "nbformat_minor": 2
}
