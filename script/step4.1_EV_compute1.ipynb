{
 "cells": [
  {
   "cell_type": "code",
   "execution_count": 1,
   "metadata": {},
   "outputs": [],
   "source": [
    "# this is the pipeline of Anti analysis\n",
    "import sys\n",
    "sys.path.append('..')\n",
    "import os\n",
    "import pandas as pd\n",
    "import copy\n",
    "import numpy as np\n",
    "import tree_util\n",
    "import seaborn as sns \n",
    "import matplotlib.pyplot as plt\n",
    "from statsmodels.stats.multitest import fdrcorrection as fdr\n",
    "from scipy.stats import mannwhitneyu\n",
    "import seaborn as sns\n",
    "import matplotlib as mpl \n",
    "mpl.rcParams['pdf.fonttype'] = 42\n",
    "import warnings \n",
    "warnings.filterwarnings('ignore')\n",
    "def format_func(value, tick_number):\n",
    "    return f\"{value:.2e}\""
   ]
  },
  {
   "cell_type": "code",
   "execution_count": 2,
   "metadata": {},
   "outputs": [],
   "source": [
    "def ex_df(d_df, profile, sname):\n",
    "    sp_list = list(set(profile.columns).intersection(set(d_df.index)))\n",
    "    sp_d_df = d_df.loc[sp_list, sp_list]\n",
    "    sp_profile = np.array(profile.loc[sname, sp_list])\n",
    "    value = np.dot(sp_profile.reshape(len(sp_profile), 1),sp_profile.reshape(1, len(sp_profile)))\n",
    "    width = value.shape[0]\n",
    "    \n",
    "    cor_df = sp_d_df.values\n",
    "    for i in range(width):\n",
    "        cor_df[i][i] = 0\n",
    "    value = np.multiply(value, cor_df)\n",
    "    ex_df = pd.DataFrame(value, index=sp_list, columns=sp_list)\n",
    "    return ex_df\n",
    "\n",
    "def exchange_v(ex_df, node_leaves):\n",
    "    result_dict = {}\n",
    "    for node, leaves in node_leaves.items():\n",
    "        leaves = list(set(leaves).intersection(set(ex_df.index)))\n",
    "        if len(leaves) == 0:\n",
    "            result_dict[node] = 0\n",
    "            continue\n",
    "        tmp = ex_df.loc[leaves, leaves]\n",
    "        result_dict[node] = tmp.sum().sum()/2\n",
    "    return result_dict\n",
    "\n",
    "def multisample_ev(profile, d_df, node_leaves):\n",
    "    result = pd.DataFrame(index=profile.index, columns=(list(node_leaves.keys())))\n",
    "    for sname in profile.index:\n",
    "        edge_df = ex_df(d_df, profile, sname)\n",
    "        tmp = exchange_v(edge_df, node_leaves)\n",
    "        for node in tmp.keys():\n",
    "            value = tmp[node]\n",
    "            result.loc[sname, node] = value\n",
    "    return result"
   ]
  },
  {
   "cell_type": "code",
   "execution_count": 3,
   "metadata": {},
   "outputs": [],
   "source": [
    "def main(pheno_profiles, sp_d, node_leaves):\n",
    "    for pheno, profile in pheno_profiles.items():\n",
    "        profile = profile.T\n",
    "        profile = profile.rename(columns=lambda x: x.replace('_', '-'))\n",
    "        profile = profile.rename(columns=lambda x: x.replace(' ', '-'))\n",
    "        pheno_profiles[pheno] = profile\n",
    "    ev_result = {}   \n",
    "    for p, profile in pheno_profiles.items():\n",
    "        p_result = multisample_ev(profile, sp_d, node_leaves)\n",
    "        ev_result[p] = copy.deepcopy(p_result)\n",
    "    return ev_result"
   ]
  },
  {
   "cell_type": "code",
   "execution_count": 4,
   "metadata": {},
   "outputs": [],
   "source": [
    "d_df = pd.read_csv('../result/S1_plasmid_net/tree/log_rescale.tsv', sep='\\t', header=0, index_col=0)\n",
    "#d_df = pd.read_csv('../result/plasmid_net/feature/degree_norm.tsv', sep='\\t', header=0, index_col=0)\n",
    "\n",
    "with open('../result/S1_plasmid_net/tree/log_rescale/gksb/renamed_GCN_tree.newick') as fp:\n",
    "    newick_tree = fp.read()\n",
    "\n",
    "json_tree = tree_util.parse(newick_tree)\n",
    "largest = {'largest': 0}\n",
    "leaf_list, l = tree_util.recu_compute(json_tree, 0, largest)\n",
    "largest_level = largest['largest']\n",
    "nlayer = largest_level\n",
    "leaf_list, l = tree_util.recu_compute(json_tree, 0, largest)\n",
    "layer_leaves_dict = tree_util.make_layer_dict(nlayer)\n",
    "\n",
    "tree_util.recu_layer(json_tree, layer_leaves_dict)\n",
    "tree_util.to_layer_leaves(layer_leaves_dict, nlayer)\n",
    "name_dict = {}\n",
    "for sp in d_df.columns:\n",
    "        name_dict[sp] = sp.replace('_', '-')\n",
    "renamed_d = d_df.rename(columns=name_dict, index=name_dict)\n",
    "renamed_d = renamed_d.loc[leaf_list, leaf_list]\n",
    "result = {}\n",
    "# compute leaf layer\n",
    "result['leaves_dict'] = copy.deepcopy(layer_leaves_dict)\n",
    "parent_dict = {}\n",
    "tree_util.parents(json_tree, parent_dict)\n",
    "node_leaves = {}\n",
    "for level in layer_leaves_dict.keys():\n",
    "    for node, sp_list in layer_leaves_dict[level].items():\n",
    "        if node in node_leaves.keys():\n",
    "            continue\n",
    "        node_leaves[node] = copy.deepcopy(sp_list)\n",
    "subtree_nodes = {}\n",
    "for l in leaf_list:\n",
    "    parent = parent_dict[l]\n",
    "    if parent not in subtree_nodes.keys():\n",
    "        subtree_nodes[parent] = []\n",
    "    subtree_nodes[parent].append(l)\n",
    "\n",
    "for node in node_leaves.keys():\n",
    "    parent = parent_dict[node]\n",
    "    if parent not in subtree_nodes.keys():\n",
    "        subtree_nodes[parent] = []\n",
    "    subtree_nodes[parent] += subtree_nodes[node]\n",
    "    subtree_nodes[parent].append(node)\n",
    "\n",
    "for node in subtree_nodes.keys():\n",
    "    subtree_nodes[node].append(node)\n",
    "\n",
    "direct_children_dict = {}\n",
    "for node, parent in parent_dict.items():\n",
    "    if parent not in direct_children_dict:\n",
    "        direct_children_dict[parent] = []\n",
    "    direct_children_dict[parent].append(node)\n",
    "\n",
    "result['leaves_dict']['root'] = {'root': list(name_dict.values())}\n",
    "node_leaves['root'] = list(name_dict.values())"
   ]
  },
  {
   "cell_type": "code",
   "execution_count": 5,
   "metadata": {},
   "outputs": [],
   "source": [
    "tlevel = 'g'\n",
    "idir = '../data/anti/Anti'\n",
    "outdir = '../result/S4_Anti/Anti1'\n",
    "if not os.path.exists(outdir):\n",
    "    os.makedirs(outdir)\n",
    "metadata_path = os.path.join(idir, 'metadata_new.tsv')\n",
    "metadata = pd.read_csv(metadata_path, sep='\\t', header=0, index_col=0)\n",
    "abd = pd.read_csv(os.path.join(idir, 'ERP009131_{}.tsv'.format(tlevel)), header=0, index_col=0, sep='\\t')\n",
    "\n",
    "# exposed group\n",
    "exposed_metadata = metadata[metadata['type']=='Exposed']\n",
    "days = [0, 7, 90]\n",
    "tmpl = '{}E{}'\n",
    "samples = set()\n",
    "for s in exposed_metadata.index:\n",
    "    s = s.split('E')[0]\n",
    "    samples.add(s)\n",
    "exposed_day_data_dict = {}\n",
    "for d in days:\n",
    "    day_dict = {}\n",
    "    for s in samples:\n",
    "        idx = tmpl.format(s, d)\n",
    "        day_dict[idx] = s\n",
    "    exposed_day_data_dict[d] = copy.deepcopy(abd[list(day_dict.keys())])\n",
    "    exposed_day_data_dict[d] = exposed_day_data_dict[d].rename(columns=day_dict)       \n",
    "\n",
    "exposed_ev_dict = main(exposed_day_data_dict, renamed_d, node_leaves)\n",
    "for d in exposed_ev_dict.keys():\n",
    "    exposed_ev_dict[d].to_csv(os.path.join(outdir, 'exposed_TI_{}.tsv'.format(d)), sep='\\t')"
   ]
  },
  {
   "cell_type": "code",
   "execution_count": 6,
   "metadata": {},
   "outputs": [],
   "source": [
    "\n",
    "# control group\n",
    "control_metadata = metadata[metadata['type']=='Control']\n",
    "days = [0, 7, 90]\n",
    "tmpl = '{}C{}'\n",
    "samples = set()\n",
    "for s in control_metadata.index:\n",
    "    s = s.split('C')[0]\n",
    "    samples.add(s)\n",
    "control_day_data_dict = {}\n",
    "for d in days:\n",
    "    day_dict = {}\n",
    "    for s in samples:\n",
    "        idx = tmpl.format(s, d)\n",
    "        day_dict[idx] = s\n",
    "    control_day_data_dict[d] = copy.deepcopy(abd[list(day_dict.keys())])\n",
    "    control_day_data_dict[d] = control_day_data_dict[d].rename(columns=day_dict)\n",
    "\n",
    "control_ev_dict = main(control_day_data_dict, renamed_d, node_leaves)\n",
    "for d in control_ev_dict.keys():\n",
    "    control_ev_dict[d].to_csv(os.path.join(outdir, 'control_TI_{}.tsv'.format(d)), sep='\\t')\n"
   ]
  },
  {
   "cell_type": "code",
   "execution_count": 7,
   "metadata": {},
   "outputs": [],
   "source": [
    "def compare(pheno_profiles, p_cutoff, case_label, control_label):\n",
    "    p_df = pd.DataFrame(columns=['p', 'mean({})'.format(case_label), 'mean({})'.format(control_label), 'var({})'.format(case_label), 'var({})'.format(control_label), 'fc({}/{})'.format(case_label, control_label), 'diff({}-{})'.format(case_label, control_label), 'abs', 'non_zero({})'.format(control_label), 'non_zero({})'.format(case_label), 'non_zero%({})'.format(control_label), 'non_zero%({})'.format(case_label)], index=list(pheno_profiles[case_label].columns))\n",
    "\n",
    "    # check each cluster\n",
    "    valid_clusters = []\n",
    "    for sp in pheno_profiles[case_label].columns:\n",
    "        disease_v = list(pheno_profiles[case_label][sp])\n",
    "        control_v = list(pheno_profiles[control_label][sp])\n",
    "        p_df.loc[sp, 'mean({})'.format(case_label)] = np.mean(disease_v)\n",
    "        p_df.loc[sp, 'mean({})'.format(control_label)] = np.mean(control_v)\n",
    "        p_df.loc[sp, 'var({})'.format(case_label)] = np.var(disease_v)\n",
    "        p_df.loc[sp, 'var({})'.format(control_label)] = np.var(control_v)\n",
    "\n",
    "        p_df.loc[sp, 'diff({}-{})'.format(case_label, control_label)] = p_df.loc[sp, 'mean({})'.format(case_label)] - p_df.loc[sp, 'mean({})'.format(control_label)]\n",
    "        p_df.loc[sp, 'fc({}/{})'.format(case_label, control_label)] = p_df.loc[sp, 'mean({})'.format(case_label)]/p_df.loc[sp, 'mean({})'.format(control_label)]\n",
    "        p_df.loc[sp,'non_zero({})'.format(case_label)] = len(disease_v) - disease_v.count(0)\n",
    "        p_df.loc[sp, 'non_zero({})'.format(control_label)] = len(control_v) - control_v.count(0)\n",
    "        p_df.loc[sp, 'non_zero%({})'.format(case_label)] = p_df.loc[sp, 'non_zero({})'.format(case_label)]/len(disease_v)\n",
    "        p_df.loc[sp, 'non_zero%({})'.format(control_label)] = p_df.loc[sp, 'non_zero({})'.format(control_label)]/len(control_v)\n",
    "        if (list(disease_v).count(0) > len(list(disease_v))*0.8) and (list(control_v).count(0) > len(list(control_v))*0.8):\n",
    "            continue\n",
    "        valid_clusters.append(sp)\n",
    "        t, p = mannwhitneyu(disease_v, control_v)\n",
    "        #print(len(disease_v), len(control_v), len(disease_v) + len(control_v))\n",
    "        p_df.loc[sp, 'p'] = p\n",
    "    p_adj = fdr(list(p_df.loc[valid_clusters, 'p']), p_cutoff)[1]\n",
    "    for i, sp in enumerate(valid_clusters):\n",
    "        p_df.loc[sp, 'p_adj'] = p_adj[i]\n",
    "    p_df['abs'] = abs(p_df['diff({}-{})'.format(case_label, control_label)])\n",
    "    return p_df\n",
    "\n",
    "def check(p_df, p_cutoff):\n",
    "    p_df.dropna(inplace=True)\n",
    "    valid_clusters = []\n",
    "    for idx in p_df.index:\n",
    "        for c in p_df.columns:\n",
    "            if not np.isnan(p_df.loc[idx, c]):\n",
    "                if p_df.loc[idx, c] < p_cutoff:\n",
    "                    valid_clusters.append(idx)\n",
    "                    break\n",
    "    return valid_clusters\n",
    "\n",
    "def show_valid(df):\n",
    "    df.fillna(np.nan, inplace=True)\n",
    "    valid_clusters = check(df, 0.05)\n",
    "    plot_p = df.loc[valid_clusters, ]\n",
    "    return plot_p"
   ]
  },
  {
   "cell_type": "code",
   "execution_count": 8,
   "metadata": {},
   "outputs": [
    {
     "name": "stdout",
     "output_type": "stream",
     "text": [
      "Empty DataFrame\n",
      "Columns: [0, 7, 90]\n",
      "Index: []\n"
     ]
    }
   ],
   "source": [
    "ec_p = {}\n",
    "ev_dict = {}\n",
    "for d in days:\n",
    "    ev_dict = {}\n",
    "    ev_dict['Exposed'] = exposed_ev_dict[0]\n",
    "    ev_dict['Control'] = control_ev_dict[0]\n",
    "    p_d_ec = compare(ev_dict, 0.05, 'Exposed', 'Control')\n",
    "    ec_p[d] = copy.deepcopy(p_d_ec)\n",
    "ec_df = pd.DataFrame(index=ec_p[0].index, columns=days)\n",
    "for d in days:\n",
    "    ec_df[d] = ec_p[d]['p_adj']\n",
    "ec_df.dropna(inplace=True)\n",
    "ec_df.to_csv(os.path.join(outdir, 'expose_control_p.tsv'), sep='\\t')\n",
    "ec_df = show_valid(ec_df)\n",
    "print(ec_df)\n"
   ]
  },
  {
   "cell_type": "code",
   "execution_count": 9,
   "metadata": {},
   "outputs": [
    {
     "name": "stdout",
     "output_type": "stream",
     "text": [
      "                    0-7      0-90      7-90\n",
      "cluster_S1-C4  0.007933  0.936956  0.061588\n",
      "cluster_C2     0.032246  0.936956  0.022277\n",
      "cluster_C4     0.007933  0.936956  0.061588\n",
      "cluster_C10    0.000073  0.936956  0.000271\n"
     ]
    }
   ],
   "source": [
    "expose_p = {}\n",
    "tmp = compare(exposed_ev_dict, 0.05, 0, 7)\n",
    "expose_p['0-7'] = copy.deepcopy(tmp)\n",
    "tmp = compare(exposed_ev_dict, 0.05, 0, 90)\n",
    "expose_p['0-90'] = copy.deepcopy(tmp)\n",
    "tmp = compare(exposed_ev_dict, 0.05, 7, 90)\n",
    "expose_p['7-90'] = copy.deepcopy(tmp)\n",
    "e_day_df = pd.DataFrame(index=ec_df[0].index, columns=['0-7', '0-90', '7-90'])\n",
    "for key in expose_p.keys():\n",
    "    e_day_df[key] = expose_p[key]['p_adj']\n",
    "e_day_df.dropna(inplace=True)\n",
    "e_day_df.to_csv(os.path.join(outdir, 'expose_day_p.tsv'), sep='\\t')\n",
    "e_day_df = show_valid(e_day_df)\n",
    "print(e_day_df)"
   ]
  },
  {
   "cell_type": "code",
   "execution_count": 10,
   "metadata": {},
   "outputs": [
    {
     "name": "stdout",
     "output_type": "stream",
     "text": [
      "Empty DataFrame\n",
      "Columns: [0-7, 0-90, 7-90]\n",
      "Index: []\n"
     ]
    }
   ],
   "source": [
    "control_p = {}\n",
    "tmp = compare(control_ev_dict, 0.05, 0, 7)\n",
    "control_p['0-7'] = copy.deepcopy(tmp)\n",
    "tmp = compare(control_ev_dict, 0.05, 0, 90)\n",
    "control_p['0-90'] = copy.deepcopy(tmp)\n",
    "tmp = compare(control_ev_dict, 0.05, 7, 90)\n",
    "control_p['7-90'] = copy.deepcopy(tmp)\n",
    "\n",
    "c_day_df = pd.DataFrame(index=ec_df[0].index, columns=['0-7', '0-90', '7-90'])\n",
    "for key in control_p.keys():\n",
    "    c_day_df[key] = control_p[key]['p_adj']\n",
    "c_day_df.dropna(inplace=True)\n",
    "c_day_df.to_csv(os.path.join(outdir, 'control_day_p.tsv'), sep='\\t')\n",
    "c_day_df = show_valid(c_day_df)\n",
    "print(c_day_df)"
   ]
  },
  {
   "cell_type": "code",
   "execution_count": 11,
   "metadata": {},
   "outputs": [],
   "source": [
    "e_day_df = show_valid(e_day_df)\n",
    "samples = exposed_ev_dict[0].index"
   ]
  },
  {
   "cell_type": "code",
   "execution_count": 12,
   "metadata": {},
   "outputs": [
    {
     "data": {
      "image/png": "[encoded data removed]",
      "text/plain": [
       "<Figure size 360x288 with 1 Axes>"
      ]
     },
     "metadata": {
      "needs_background": "light"
     },
     "output_type": "display_data"
    },
    {
     "data": {
      "image/png": "[encoded data removed]",
      "text/plain": [
       "<Figure size 360x288 with 1 Axes>"
      ]
     },
     "metadata": {
      "needs_background": "light"
     },
     "output_type": "display_data"
    },
    {
     "data": {
      "image/png": "[encoded data removed]",
      "text/plain": [
       "<Figure size 360x288 with 1 Axes>"
      ]
     },
     "metadata": {
      "needs_background": "light"
     },
     "output_type": "display_data"
    },
    {
     "data": {
      "image/png": "[encoded data removed]",
      "text/plain": [
       "<Figure size 360x288 with 1 Axes>"
      ]
     },
     "metadata": {
      "needs_background": "light"
     },
     "output_type": "display_data"
    }
   ],
   "source": [
    "for cluster in e_day_df.index:\n",
    "    fig, ax = plt.subplots(figsize=(5, 4))\n",
    "    df = pd.DataFrame(columns=days, index=samples)\n",
    "    for day in days:\n",
    "        tmp = exposed_ev_dict[day] \n",
    "        df.loc[samples, day] = tmp.loc[samples, cluster]\n",
    "\n",
    "    bp = ax.boxplot(df[days], labels=days, patch_artist=True, widths=0.6)\n",
    "    colors = ['green', 'yellow', 'orange']\n",
    "    max_y = df.max().max()*1.5\n",
    "    for box, color in zip(bp['boxes'], colors):\n",
    "        box.set(facecolor=color, alpha=1)\n",
    "\n",
    "    for whisker in bp['whiskers']:\n",
    "        whisker.set(color='gray', linewidth=1.5)\n",
    "    for cap in bp['caps']:\n",
    "        cap.set(color='gray', linewidth=1.5)\n",
    "    for median in bp['medians']:\n",
    "        median.set(color='black', linewidth=1.5)\n",
    "    for flier in bp['fliers']:\n",
    "        flier.set(marker='o', markerfacecolor='gray', markersize=5)\n",
    "\n",
    "\n",
    "    for i, pair in enumerate(e_day_df.columns):\n",
    "        day0, day1 = pair.split('-')\n",
    "        day0 = days.index(int(day0))\n",
    "        day1 = days.index(int(day1))\n",
    "        value = e_day_df.loc[cluster, pair]\n",
    "        current_y = max_y*(1+i*0.15)\n",
    "        ax.plot([1.1+day0, day1+0.9], [current_y]*2, '-', color='black', linewidth=2)\n",
    "        if value < 0.05:\n",
    "            ax.text((2+day0+day1)/2, current_y*1.02, \"p={:.2e}\".format(value), ha='center', va='bottom', fontsize=12)\n",
    "        else:\n",
    "            ax.text((2+day0+day1)/2, current_y*1.02, \"p={:.2f}\".format(value), ha='center', va='bottom', fontsize=12)\n",
    "\n",
    "    #ax.set_title('SE comparison in different experiment')\n",
    "    ax.set_xlabel('day', fontsize=12)\n",
    "    if '_' in cluster:\n",
    "        ylabel = '{}'.format(cluster.split('_')[1])\n",
    "    else:\n",
    "        ylabel = cluster\n",
    "    ax.set_ylabel(ylabel, fontsize=12)\n",
    "    plt.yticks(fontsize=12)\n",
    "    ax.set_ylim(0, max_y*1.5)\n",
    "    plt.gca().yaxis.set_major_formatter(plt.FuncFormatter(format_func))\n",
    "    plt.tight_layout()\n",
    "    plt.savefig(os.path.join(outdir, '{}_boxplot.pdf'.format(cluster)), format='pdf')\n",
    "    plt.show()\n"
   ]
  },
  {
   "cell_type": "code",
   "execution_count": 94,
   "metadata": {},
   "outputs": [],
   "source": [
    "# check all abd diff\n",
    "diff_abd_dict = {}\n",
    "for d1 in days:\n",
    "    if d1 not in diff_abd_dict.keys():\n",
    "        diff_abd_dict[d1] = {}\n",
    "    tmp1 = exposed_day_data_dict[d1]\n",
    "    for d2 in days:\n",
    "        if d1 >= d2:\n",
    "            continue\n",
    "        diff_abd_dict[d1][d2] = pd.DataFrame()\n",
    "        tmp2 = exposed_day_data_dict[d2]\n",
    "        for sp in tmp1.columns:\n",
    "            #if list(tmp1[sp]).count(0) > len(tmp1)*0.8:\n",
    "            #    continue\n",
    "            if sp not in tmp2.columns:\n",
    "                v2 = [0]*len(tmp1)\n",
    "            v1 = tmp1[sp]\n",
    "            v2 = tmp2[sp]\n",
    "            t, p = mannwhitneyu(v1, v2)\n",
    "            diff_abd_dict[d1][d2].loc[sp, 'p'] = p\n",
    "        diff_abd_dict[d1][d2]['p_adj'] = fdr(list(diff_abd_dict[d1][d2]['p']), 0.05)[1]\n"
   ]
  },
  {
   "cell_type": "code",
   "execution_count": 107,
   "metadata": {},
   "outputs": [
    {
     "data": {
      "text/plain": [
       "275"
      ]
     },
     "execution_count": 107,
     "metadata": {},
     "output_type": "execute_result"
    }
   ],
   "source": [
    "len(set(diff_abd_dict[0][7].index).intersection(node_leaves['root']))"
   ]
  },
  {
   "cell_type": "code",
   "execution_count": 109,
   "metadata": {},
   "outputs": [
    {
     "data": {
      "text/plain": [
       "39"
      ]
     },
     "execution_count": 109,
     "metadata": {},
     "output_type": "execute_result"
    }
   ],
   "source": [
    "len(set(diff_abd_dict[0][7].index).intersection(node_leaves['cluster_S1-C4']))"
   ]
  },
  {
   "cell_type": "code",
   "execution_count": 104,
   "metadata": {},
   "outputs": [
    {
     "name": "stdout",
     "output_type": "stream",
     "text": [
      "46\n",
      "cluster_S1-C4 0 7 5 39 0.1282051282051282\n",
      "46\n",
      "cluster_S1-C4 0 90 0 39 0.0\n",
      "46\n",
      "cluster_S1-C4 7 90 2 39 0.05128205128205128\n",
      "23\n",
      "cluster_C2 0 7 0 5 0.0\n",
      "23\n",
      "cluster_C2 0 90 0 5 0.0\n",
      "23\n",
      "cluster_C2 7 90 0 5 0.0\n",
      "12\n",
      "cluster_C4 0 7 4 11 0.36363636363636365\n",
      "12\n",
      "cluster_C4 0 90 0 11 0.0\n",
      "12\n",
      "cluster_C4 7 90 3 11 0.2727272727272727\n",
      "3\n",
      "cluster_C10 0 7 2 2 1.0\n",
      "3\n",
      "cluster_C10 0 90 0 2 0.0\n",
      "3\n",
      "cluster_C10 7 90 2 2 1.0\n"
     ]
    }
   ],
   "source": [
    "for cluster in e_day_df.index:\n",
    "    leaves = node_leaves[cluster]\n",
    "    for d1 in days:\n",
    "        for d2 in days:\n",
    "            if d1 >= d2:\n",
    "                continue\n",
    "            total_tmp = 0\n",
    "            sig_tmp = 0\n",
    "            print(len(leaves))\n",
    "            for sp in leaves:\n",
    "                if sp not in diff_abd_dict[d1][d2].index:\n",
    "                    continue\n",
    "                p = diff_abd_dict[d1][d2].loc[sp, 'p_adj']\n",
    "                total_tmp += 1\n",
    "                if p < 0.05:\n",
    "                    sig_tmp += 1\n",
    "            print(cluster, d1, d2, sig_tmp, total_tmp, sig_tmp/total_tmp)"
   ]
  },
  {
   "cell_type": "code",
   "execution_count": 98,
   "metadata": {},
   "outputs": [
    {
     "name": "stdout",
     "output_type": "stream",
     "text": [
      "root 0 7 29 275 0.10545454545454545\n",
      "root 0 90 0 275 0.0\n",
      "root 7 90 17 275 0.06181818181818182\n",
      "supercluster_S1 0 7 22 234 0.09401709401709402\n",
      "supercluster_S1 0 90 0 234 0.0\n",
      "supercluster_S1 7 90 12 234 0.05128205128205128\n",
      "cluster_S1-C2 0 7 14 85 0.16470588235294117\n",
      "cluster_S1-C2 0 90 0 85 0.0\n",
      "cluster_S1-C2 7 90 8 85 0.09411764705882353\n",
      "cluster_S1-C1 0 7 1 35 0.02857142857142857\n",
      "cluster_S1-C1 0 90 0 35 0.0\n",
      "cluster_S1-C1 7 90 0 35 0.0\n"
     ]
    }
   ],
   "source": [
    "for cluster in ['root', 'supercluster_S1', 'cluster_S1-C2', 'cluster_S1-C1']:\n",
    "    leaves = node_leaves[cluster]\n",
    "    for d1 in days:\n",
    "        for d2 in days:\n",
    "            if d1 >= d2:\n",
    "                continue\n",
    "            total_tmp = 0\n",
    "            sig_tmp = 0\n",
    "            for sp in leaves:\n",
    "                if sp not in diff_abd_dict[d1][d2].index:\n",
    "                    continue\n",
    "                p = diff_abd_dict[d1][d2].loc[sp, 'p_adj']\n",
    "                total_tmp += 1\n",
    "                if p < 0.05:\n",
    "                    sig_tmp += 1\n",
    "            print(cluster, d1, d2, sig_tmp, total_tmp, sig_tmp/total_tmp)"
   ]
  },
  {
   "cell_type": "code",
   "execution_count": 101,
   "metadata": {},
   "outputs": [],
   "source": [
    "# make heatmap for ev day\n",
    "# exposed\n",
    "mean_df = pd.DataFrame(index=node_leaves.keys(), columns=days)\n",
    "median_df = pd.DataFrame(index=node_leaves.keys(), columns=days)\n",
    "for day in days:\n",
    "    tmp = exposed_ev_dict[day]\n",
    "    mean_df.loc[tmp.columns, day] = tmp.mean()\n",
    "    median_df.loc[tmp.columns, day] = tmp.median()\n",
    "\n",
    "mean_df = mean_df.astype(float)\n",
    "median_df = median_df.astype(float)\n",
    "# delete all zero rows\n",
    "mean_df = mean_df.loc[(mean_df!=0).any(axis=1), :]\n",
    "median_df = median_df.loc[(median_df!=0).any(axis=1), :]"
   ]
  },
  {
   "cell_type": "code",
   "execution_count": 102,
   "metadata": {},
   "outputs": [
    {
     "data": {
      "image/png": "[encoded data removed]",
      "text/plain": [
       "<Figure size 432x288 with 2 Axes>"
      ]
     },
     "metadata": {
      "needs_background": "light"
     },
     "output_type": "display_data"
    }
   ],
   "source": [
    "sns.heatmap(mean_df, cmap='RdYlBu_r', square=True, linewidths=0.5, linecolor='white')\n",
    "plt.tight_layout()\n",
    "plt.savefig(os.path.join(outdir, 'exposed_TI_mean_heatmap.pdf'), format='pdf')\n",
    "plt.show()"
   ]
  },
  {
   "cell_type": "code",
   "execution_count": 103,
   "metadata": {},
   "outputs": [
    {
     "data": {
      "text/plain": [
       "<AxesSubplot: >"
      ]
     },
     "execution_count": 103,
     "metadata": {},
     "output_type": "execute_result"
    },
    {
     "data": {
      "image/png": "[encoded data removed]",
      "text/plain": [
       "<Figure size 432x288 with 2 Axes>"
      ]
     },
     "metadata": {
      "needs_background": "light"
     },
     "output_type": "display_data"
    }
   ],
   "source": [
    "sns.heatmap(median_df, cmap='RdYlBu_r', square=True, linewidths=0.5, linecolor='white')\n"
   ]
  },
  {
   "cell_type": "code",
   "execution_count": null,
   "metadata": {},
   "outputs": [],
   "source": []
  }
 ],
 "metadata": {
  "kernelspec": {
   "display_name": "base",
   "language": "python",
   "name": "python3"
  },
  "language_info": {
   "codemirror_mode": {
    "name": "ipython",
    "version": 3
   },
   "file_extension": ".py",
   "mimetype": "text/x-python",
   "name": "python",
   "nbconvert_exporter": "python",
   "pygments_lexer": "ipython3",
   "version": "3.8.5"
  }
 },
 "nbformat": 4,
 "nbformat_minor": 2
}
