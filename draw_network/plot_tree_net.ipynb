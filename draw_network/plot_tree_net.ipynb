{
 "cells": [
  {
   "cell_type": "code",
   "execution_count": 1,
   "metadata": {},
   "outputs": [],
   "source": [
    "import os\n",
    "import pandas as pd\n",
    "from collections import Counter\n",
    "import numpy as np\n",
    "\n",
    "def tree(color_dict, taxonomy_df, leaf_list, label, level='p'):\n",
    "    header = \"TREE_COLORS\\n \\\n",
    "    SEPARATOR COMMA\\n \\\n",
    "    DATASET_LABEL,{}\\n \\\n",
    "    DATA\\n \".format(label)\n",
    "    # leaf range color group\n",
    "    tmp = '{},{},{},{}\\n'\n",
    "    for l in leaf_list:\n",
    "        high_level = taxonomy_df.loc[l, level]\n",
    "        if high_level in color_dict:\n",
    "            color = color_dict[high_level]\n",
    "        else:\n",
    "            color = color_dict['other']\n",
    "        header += tmp.format(l, 'range', color, high_level)\n",
    "    return header\n",
    "    \n"
   ]
  },
  {
   "cell_type": "code",
   "execution_count": 5,
   "metadata": {},
   "outputs": [],
   "source": [
    "# count color df \n",
    "infile = 'class_genus.tsv'\n",
    "taxo_df = pd.read_csv(infile, sep='\\t', index_col=0)\n",
    "rename_dict = {}\n",
    "for i in taxo_df.index:\n",
    "    rename_dict[i] = i.replace('_', '-')\n",
    "taxo_df.rename(index=rename_dict, inplace=True)"
   ]
  },
  {
   "cell_type": "code",
   "execution_count": 6,
   "metadata": {},
   "outputs": [],
   "source": [
    "color_dict = {\n",
    "        'c__Gammaproteobacteria': '#85D696', \n",
    "        'c__Alphaproteobacteria': '#D95F02', \n",
    "        'c__Clostridia': '#7EC9CE', \n",
    "        'c__Bacilli': '#FFC68A', \n",
    "        'c__Actinomycetia': '#CC99DB', \n",
    "        'c__Bacteroidia': '#999FDB', \n",
    "        'c__Cyanobacteriia': '#C0E481', \n",
    "        'other': '#AAAAAA'}"
   ]
  },
  {
   "cell_type": "code",
   "execution_count": 7,
   "metadata": {},
   "outputs": [],
   "source": [
    "\n",
    "tree_str = tree(color_dict, taxo_df, taxo_df.index, 'class', level='c')\n",
    "with open('tree.txt', 'w') as f:\n",
    "    f.write(tree_str)"
   ]
  },
  {
   "cell_type": "code",
   "execution_count": null,
   "metadata": {},
   "outputs": [],
   "source": []
  },
  {
   "cell_type": "code",
   "execution_count": null,
   "metadata": {},
   "outputs": [],
   "source": []
  }
 ],
 "metadata": {
  "kernelspec": {
   "display_name": "base",
   "language": "python",
   "name": "python3"
  },
  "language_info": {
   "codemirror_mode": {
    "name": "ipython",
    "version": 3
   },
   "file_extension": ".py",
   "mimetype": "text/x-python",
   "name": "python",
   "nbconvert_exporter": "python",
   "pygments_lexer": "ipython3",
   "version": "3.8.5"
  }
 },
 "nbformat": 4,
 "nbformat_minor": 2
}
