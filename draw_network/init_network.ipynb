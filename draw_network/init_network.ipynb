{
 "cells": [
  {
   "cell_type": "code",
   "execution_count": 1,
   "metadata": {},
   "outputs": [],
   "source": [
    "import sys\n",
    "sys.path.append('../network')\n",
    "import network\n",
    "import pandas as pd\n",
    "import copy\n",
    "\n",
    "\n",
    "colors = {\n",
    "        'c__Gammaproteobacteria': '#85D696', \n",
    "        'c__Alphaproteobacteria': '#D95F02', \n",
    "        'c__Clostridia': '#7EC9CE', \n",
    "        'c__Bacilli': '#FFC68A', \n",
    "        'c__Actinomycetia': '#CC99DB', \n",
    "        'c__Bacteroidia': '#999FDB', \n",
    "        'c__Cyanobacteriia': '#C0E481', \n",
    "        'other': '#AAAAAA'}\n",
    "\n",
    "taxa_table = pd.read_csv('../data/taxonomy_df.tsv', sep='\\t', header=0, index_col=None)\n"
   ]
  },
  {
   "cell_type": "code",
   "execution_count": 2,
   "metadata": {},
   "outputs": [],
   "source": [
    "class_table = taxa_table[['g', 'c']]\n",
    "class_table = class_table.drop_duplicates()\n",
    "class_table.dropna(inplace=True, how='any')\n",
    "# drop idx == g__\n",
    "class_table = class_table[class_table['g'] != 'g__']\n",
    "class_table = class_table.set_index('g')\n"
   ]
  },
  {
   "cell_type": "code",
   "execution_count": 4,
   "metadata": {},
   "outputs": [],
   "source": [
    "\n",
    "colors_reverse = {}\n",
    "colors_dict = {}\n",
    "phy_dict = {}\n",
    "for phy, color in colors.items():\n",
    "    colors_dict[color] = 0\n",
    "    colors_reverse[color] = phy\n",
    "    phy_dict[phy] = []\n",
    "total_num = class_table.shape[0]\n",
    "\n",
    "for sp in class_table.index:\n",
    "    phy = class_table.loc[sp, 'c']\n",
    "    #print(phy, sp)\n",
    "    # if sp duplicated in index\n",
    "    if type(phy) == pd.core.series.Series or (phy not in colors.keys()):\n",
    "        phy = 'other'\n",
    "        class_table.loc[sp, 'c'] = 'other'\n",
    "    colors_dict[colors[phy]] += 1\n",
    "    phy_dict[phy].append(sp)\n",
    "\n",
    "rnode = 5\n",
    "width, origin, polar_df = network.assign_pos(total_num, rnode, margin=0)\n",
    "class_table['g'] = class_table.index\n",
    "class_table.drop_duplicates(inplace=True)\n",
    "class_table[['g', 'c']].to_csv('class_genus.tsv', sep='\\t', header=True, index=False)\n"
   ]
  },
  {
   "cell_type": "code",
   "execution_count": 5,
   "metadata": {},
   "outputs": [],
   "source": [
    "\n",
    "def complete_df(layout, phy_dict, colors_reverse):\n",
    "    col_order = ['id', 'theta', 'r', 'color', 'phy', 'bg_color']\n",
    "    for idx in layout.index:\n",
    "        color = layout.loc[idx, 'color'] \n",
    "        phy = colors_reverse[color]\n",
    "        #print(color, phy)\n",
    "        layout.loc[idx, 'id'] = phy_dict[phy].pop()\n",
    "        layout.loc[idx, 'phy'] = phy\n",
    "    layout['bg_color'] = layout['color']\n",
    "    return layout[col_order]\n"
   ]
  },
  {
   "cell_type": "code",
   "execution_count": 6,
   "metadata": {},
   "outputs": [],
   "source": [
    "# test ring_layout\n",
    "#layout = network.ring_layout(colors_dict, polar_df)\n",
    "#complete_df(layout, copy.deepcopy(phy_dict), colors_reverse).to_csv(\"ring_sp_layout.tsv\", sep='\\t', index=None)\n",
    "\n",
    "# test sector_layout\n",
    "layout = network.sector_layout(colors_dict, polar_df)\n",
    "complete_df(layout, copy.deepcopy(phy_dict), colors_reverse).to_csv(\"sector_sp_layout.tsv\", sep='\\t', index=None)\n",
    "\n",
    "# test scale_layout\n",
    "#layout, seeds = network.scale_layout(colors_dict, polar_df, width)\n",
    "#complete_df(layout, copy.deepcopy(phy_dict), colors_reverse).to_csv(\"scale_sp_layout.tsv\", sep='\\t', index=None)\n",
    "\n",
    "with open('config.txt', 'w') as fp:\n",
    "    fp.write(\"width = {}\\norigin = {},{}\\nr = {}\".format(width, origin[0], origin[1], rnode))"
   ]
  },
  {
   "cell_type": "code",
   "execution_count": null,
   "metadata": {},
   "outputs": [],
   "source": []
  }
 ],
 "metadata": {
  "kernelspec": {
   "display_name": "base",
   "language": "python",
   "name": "python3"
  },
  "language_info": {
   "codemirror_mode": {
    "name": "ipython",
    "version": 3
   },
   "file_extension": ".py",
   "mimetype": "text/x-python",
   "name": "python",
   "nbconvert_exporter": "python",
   "pygments_lexer": "ipython3",
   "version": "3.8.5"
  },
  "orig_nbformat": 4
 },
 "nbformat": 4,
 "nbformat_minor": 2
}
